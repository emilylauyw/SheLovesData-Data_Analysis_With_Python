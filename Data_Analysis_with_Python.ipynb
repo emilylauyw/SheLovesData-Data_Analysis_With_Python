{
  "nbformat": 4,
  "nbformat_minor": 0,
  "metadata": {
    "colab": {
      "name": "Data Analysis with Python.ipynb",
      "provenance": [],
      "collapsed_sections": [],
      "include_colab_link": true
    },
    "kernelspec": {
      "name": "python3",
      "display_name": "Python 3"
    }
  },
  "cells": [
    {
      "cell_type": "markdown",
      "metadata": {
        "id": "view-in-github",
        "colab_type": "text"
      },
      "source": [
        "<a href=\"https://colab.research.google.com/github/emilylauyw/SheLovesData-Data_Analysis_With_Python/blob/master/Data_Analysis_with_Python.ipynb\" target=\"_parent\"><img src=\"https://colab.research.google.com/assets/colab-badge.svg\" alt=\"Open In Colab\"/></a>"
      ]
    },
    {
      "cell_type": "markdown",
      "metadata": {
        "id": "wdk-XNbaYwz7",
        "colab_type": "text"
      },
      "source": [
        "**PLEASE DO NOT MODIFY THIS NOTEBOOK**\n",
        "\n",
        "See the instructions below on how to make your own copy"
      ]
    },
    {
      "cell_type": "markdown",
      "metadata": {
        "id": "FGCLo1uAZrLH",
        "colab_type": "text"
      },
      "source": [
        "# 0) How to use Colab"
      ]
    },
    {
      "cell_type": "markdown",
      "metadata": {
        "id": "HQvAlh2-Y15G",
        "colab_type": "text"
      },
      "source": [
        "### 0.1. Make a Copy\n",
        "\n",
        "- You will not be able to edit this notebook directly, instead you will need to edit your own copy.\n",
        "- Click: **File** -> **Save a copy in Drive**\n",
        "- Follow the prompts to open \"Copy of Data Analysis with Python.ipynb\"\n",
        "- Save a bookmark of your notebook so you can find it later (these are the exercises you will use during the workshop).\n",
        "\n",
        "![copy to drive](https://i.imgur.com/gADwz6L.png)"
      ]
    },
    {
      "cell_type": "markdown",
      "metadata": {
        "id": "pXsYsgEtZCD8",
        "colab_type": "text"
      },
      "source": [
        "### 0.2. Cells\n",
        "\n",
        "- The grey blocks of code are called cells. \n",
        "- You can edit cells by clicking on them and typing\n",
        "- You can run a cell by hovering over the cell and clicking the play button, or using the cmd/ctrl + Enter keyboard shortcut\n",
        "- When you run a cell, the code in the cell can change the state of your notebook session OR  data in that cell or anywhere else in your notebook\n",
        "- Cells can depend on things that are defined in other cells, so the order that you run the cells in is important.\n",
        "- When you run a cell, it will print the result of the last line in the cell.\n",
        "- As you go through these exercises, try to guess what the output of each cell is going to be before running it.\n",
        "- The first time you run a cell, it might take a few seconds to start working, that's normal\n",
        "\n",
        "![alt text](https://i.imgur.com/H4xTmyp.png)"
      ]
    },
    {
      "cell_type": "markdown",
      "metadata": {
        "id": "bmaroOGDZG39",
        "colab_type": "text"
      },
      "source": [
        "### 0.3. Cheatsheet\n",
        "\n",
        "Make sure to bookmark this [pandas cheatsheet](https://datacamp-community-prod.s3.amazonaws.com/dbed353d-2757-4617-8206-8767ab379ab3). Don’t worry, it’s not compulsory study. However, it will be a handy tool to have by your side when we’re doing the exercises. It’s also a great resource for learning more after the workshop. "
      ]
    },
    {
      "cell_type": "markdown",
      "metadata": {
        "id": "jsmXmfA3c7OU",
        "colab_type": "text"
      },
      "source": [
        "# Breakout Session 1 - Basics\n"
      ]
    },
    {
      "cell_type": "markdown",
      "metadata": {
        "id": "E6cgTY76V5BJ",
        "colab_type": "text"
      },
      "source": [
        "Let's import the `pandas` python module with alias `pd`"
      ]
    },
    {
      "cell_type": "code",
      "metadata": {
        "id": "VgSyoc2p6-x-",
        "colab_type": "code",
        "colab": {}
      },
      "source": [
        "import pandas as pd"
      ],
      "execution_count": 1,
      "outputs": []
    },
    {
      "cell_type": "markdown",
      "metadata": {
        "id": "rb9sEAYsz5rM",
        "colab_type": "text"
      },
      "source": [
        "## 1) Reading Pokemon Data"
      ]
    },
    {
      "cell_type": "markdown",
      "metadata": {
        "id": "Um2VGX-xWIb9",
        "colab_type": "text"
      },
      "source": [
        "Let's load Pokemon data from the url and check that it's loaded into a dataframe, which is a table of data that supports a lot of manipulation and query functions. You can copy the URL into another browser tab to see the raw file contents. \n",
        "\n",
        "Entering `df_pokemon` on the last line displays a preview of the dataframe.\n",
        "\n",
        "The name `df` is short for - data frame"
      ]
    },
    {
      "cell_type": "code",
      "metadata": {
        "id": "UbPtkliJw5Nt",
        "colab_type": "code",
        "colab": {
          "base_uri": "https://localhost:8080/",
          "height": 402
        },
        "outputId": "2dc92186-0481-4c00-8c2e-5ff84c9efa2a"
      },
      "source": [
        "df_pokemon = pd.read_csv('https://github.com/veekun/pokedex/raw/master/pokedex/data/csv/pokemon.csv') \n",
        "df_pokemon"
      ],
      "execution_count": 2,
      "outputs": [
        {
          "output_type": "execute_result",
          "data": {
            "text/html": [
              "<div>\n",
              "<style scoped>\n",
              "    .dataframe tbody tr th:only-of-type {\n",
              "        vertical-align: middle;\n",
              "    }\n",
              "\n",
              "    .dataframe tbody tr th {\n",
              "        vertical-align: top;\n",
              "    }\n",
              "\n",
              "    .dataframe thead th {\n",
              "        text-align: right;\n",
              "    }\n",
              "</style>\n",
              "<table border=\"1\" class=\"dataframe\">\n",
              "  <thead>\n",
              "    <tr style=\"text-align: right;\">\n",
              "      <th></th>\n",
              "      <th>id</th>\n",
              "      <th>identifier</th>\n",
              "      <th>species_id</th>\n",
              "      <th>height</th>\n",
              "      <th>weight</th>\n",
              "      <th>base_experience</th>\n",
              "      <th>order</th>\n",
              "      <th>is_default</th>\n",
              "    </tr>\n",
              "  </thead>\n",
              "  <tbody>\n",
              "    <tr>\n",
              "      <th>0</th>\n",
              "      <td>1</td>\n",
              "      <td>bulbasaur</td>\n",
              "      <td>1</td>\n",
              "      <td>7</td>\n",
              "      <td>69</td>\n",
              "      <td>64</td>\n",
              "      <td>1</td>\n",
              "      <td>1</td>\n",
              "    </tr>\n",
              "    <tr>\n",
              "      <th>1</th>\n",
              "      <td>2</td>\n",
              "      <td>ivysaur</td>\n",
              "      <td>2</td>\n",
              "      <td>10</td>\n",
              "      <td>130</td>\n",
              "      <td>142</td>\n",
              "      <td>2</td>\n",
              "      <td>1</td>\n",
              "    </tr>\n",
              "    <tr>\n",
              "      <th>2</th>\n",
              "      <td>3</td>\n",
              "      <td>venusaur</td>\n",
              "      <td>3</td>\n",
              "      <td>20</td>\n",
              "      <td>1000</td>\n",
              "      <td>236</td>\n",
              "      <td>3</td>\n",
              "      <td>1</td>\n",
              "    </tr>\n",
              "    <tr>\n",
              "      <th>3</th>\n",
              "      <td>4</td>\n",
              "      <td>charmander</td>\n",
              "      <td>4</td>\n",
              "      <td>6</td>\n",
              "      <td>85</td>\n",
              "      <td>62</td>\n",
              "      <td>5</td>\n",
              "      <td>1</td>\n",
              "    </tr>\n",
              "    <tr>\n",
              "      <th>4</th>\n",
              "      <td>5</td>\n",
              "      <td>charmeleon</td>\n",
              "      <td>5</td>\n",
              "      <td>11</td>\n",
              "      <td>190</td>\n",
              "      <td>142</td>\n",
              "      <td>6</td>\n",
              "      <td>1</td>\n",
              "    </tr>\n",
              "    <tr>\n",
              "      <th>...</th>\n",
              "      <td>...</td>\n",
              "      <td>...</td>\n",
              "      <td>...</td>\n",
              "      <td>...</td>\n",
              "      <td>...</td>\n",
              "      <td>...</td>\n",
              "      <td>...</td>\n",
              "      <td>...</td>\n",
              "    </tr>\n",
              "    <tr>\n",
              "      <th>959</th>\n",
              "      <td>10153</td>\n",
              "      <td>araquanid-totem</td>\n",
              "      <td>752</td>\n",
              "      <td>31</td>\n",
              "      <td>2175</td>\n",
              "      <td>159</td>\n",
              "      <td>885</td>\n",
              "      <td>0</td>\n",
              "    </tr>\n",
              "    <tr>\n",
              "      <th>960</th>\n",
              "      <td>10154</td>\n",
              "      <td>togedemaru-totem</td>\n",
              "      <td>777</td>\n",
              "      <td>6</td>\n",
              "      <td>130</td>\n",
              "      <td>152</td>\n",
              "      <td>926</td>\n",
              "      <td>0</td>\n",
              "    </tr>\n",
              "    <tr>\n",
              "      <th>961</th>\n",
              "      <td>10155</td>\n",
              "      <td>necrozma-dusk</td>\n",
              "      <td>800</td>\n",
              "      <td>38</td>\n",
              "      <td>4600</td>\n",
              "      <td>306</td>\n",
              "      <td>954</td>\n",
              "      <td>0</td>\n",
              "    </tr>\n",
              "    <tr>\n",
              "      <th>962</th>\n",
              "      <td>10156</td>\n",
              "      <td>necrozma-dawn</td>\n",
              "      <td>800</td>\n",
              "      <td>42</td>\n",
              "      <td>3500</td>\n",
              "      <td>306</td>\n",
              "      <td>955</td>\n",
              "      <td>0</td>\n",
              "    </tr>\n",
              "    <tr>\n",
              "      <th>963</th>\n",
              "      <td>10157</td>\n",
              "      <td>necrozma-ultra</td>\n",
              "      <td>800</td>\n",
              "      <td>75</td>\n",
              "      <td>2300</td>\n",
              "      <td>339</td>\n",
              "      <td>956</td>\n",
              "      <td>0</td>\n",
              "    </tr>\n",
              "  </tbody>\n",
              "</table>\n",
              "<p>964 rows × 8 columns</p>\n",
              "</div>"
            ],
            "text/plain": [
              "        id        identifier  species_id  ...  base_experience  order  is_default\n",
              "0        1         bulbasaur           1  ...               64      1           1\n",
              "1        2           ivysaur           2  ...              142      2           1\n",
              "2        3          venusaur           3  ...              236      3           1\n",
              "3        4        charmander           4  ...               62      5           1\n",
              "4        5        charmeleon           5  ...              142      6           1\n",
              "..     ...               ...         ...  ...              ...    ...         ...\n",
              "959  10153   araquanid-totem         752  ...              159    885           0\n",
              "960  10154  togedemaru-totem         777  ...              152    926           0\n",
              "961  10155     necrozma-dusk         800  ...              306    954           0\n",
              "962  10156     necrozma-dawn         800  ...              306    955           0\n",
              "963  10157    necrozma-ultra         800  ...              339    956           0\n",
              "\n",
              "[964 rows x 8 columns]"
            ]
          },
          "metadata": {
            "tags": []
          },
          "execution_count": 2
        }
      ]
    },
    {
      "cell_type": "markdown",
      "metadata": {
        "id": "eobJDaKlD_Tu",
        "colab_type": "text"
      },
      "source": [
        "**Preview of the Pokemon data**\n",
        "\n",
        "* **id** - unique id for the Pokemon\n",
        "* **identifier** - name of the Pokemon\n",
        "* **species_id** - id type of the Pokemon\n",
        "* **height** - height of the Pokemon\n",
        "* **weight** - weight of the Pokemon\n",
        "* **base_experience** - experience required for the Pokemon to level up"
      ]
    },
    {
      "cell_type": "markdown",
      "metadata": {
        "id": "LLiUKDrj33Jt",
        "colab_type": "text"
      },
      "source": [
        "Notice that apart from the above columns, there's a separate serial number column, with values from `0` to `963`. This is because `pandas` provides each row of the dataframe with a unique number / id by default."
      ]
    },
    {
      "cell_type": "markdown",
      "metadata": {
        "id": "eLG9OG9l9L7N",
        "colab_type": "text"
      },
      "source": [
        "When you first get a data set, you would want to know some general information about it, to get a gist of things. Let's check the general information of our pokemon data set"
      ]
    },
    {
      "cell_type": "code",
      "metadata": {
        "id": "jL58EF4R9a2N",
        "colab_type": "code",
        "colab": {}
      },
      "source": [
        "df_pokemon.info()"
      ],
      "execution_count": null,
      "outputs": []
    },
    {
      "cell_type": "markdown",
      "metadata": {
        "id": "eaeS-ZVtqb9W",
        "colab_type": "text"
      },
      "source": [
        "What does the above `info()` tell us about the data?<br>\n",
        "* `RangeIndex` tells us that there are `964` rows in the data table\n",
        "* We learn that there are `8` columns in this data numbered `0` to `7`\n",
        "* The data type for every column is integer (`int64`), except the `identifier` column.\n",
        "* `Null` means empty or nothing. `Non-Null Count` is telling us that, for each column, all the rows have a value in them, i.e. no empty cells.\n"
      ]
    },
    {
      "cell_type": "markdown",
      "metadata": {
        "id": "azar7VtW7Ko7",
        "colab_type": "text"
      },
      "source": [
        "Even though the dataframe has so many rows (964), `pandas` is able to show it to us if you see the above output. It does this by showing a sample of the rows - some rows from the top and some rows from the bottom and then showing `...` in the middle to denote that some rows exist in between"
      ]
    },
    {
      "cell_type": "markdown",
      "metadata": {
        "id": "JSIPd-LQ9Oox",
        "colab_type": "text"
      },
      "source": [
        "## 2) Filtering"
      ]
    },
    {
      "cell_type": "markdown",
      "metadata": {
        "id": "jo_BN4ZfHGMA",
        "colab_type": "text"
      },
      "source": [
        "### Find the information available for Pokemon `zangoose`.\n",
        "\n",
        "Let's use the filtering concept that we just learned to filter out the details of the pokemon named `zangoose`.\n",
        "\n",
        "Let's write down our condition first"
      ]
    },
    {
      "cell_type": "code",
      "metadata": {
        "id": "zFqSMd8MxSCs",
        "colab_type": "code",
        "colab": {}
      },
      "source": [
        "df_pokemon[\"identifier\"] == \"zangoose\""
      ],
      "execution_count": null,
      "outputs": []
    },
    {
      "cell_type": "markdown",
      "metadata": {
        "id": "t0JQAq1qxePB",
        "colab_type": "text"
      },
      "source": [
        "As you can see, it shows lots of `False` values as result of the condition. But we can't see all the boolean values as there are a lot.\n",
        "\n",
        "Now let's apply the condition in the dataframe"
      ]
    },
    {
      "cell_type": "code",
      "metadata": {
        "id": "IZuINdoOfjjp",
        "colab_type": "code",
        "colab": {}
      },
      "source": [
        "df_zangoose = df_pokemon[df_pokemon[\"identifier\"] == \"zangoose\"]\n",
        "df_zangoose"
      ],
      "execution_count": null,
      "outputs": []
    },
    {
      "cell_type": "markdown",
      "metadata": {
        "id": "Rj2WM0td6EdO",
        "colab_type": "text"
      },
      "source": [
        "Awesome! We have got the row that has informtaion about the `zangoose` pokemon.\n",
        "\n",
        "Now, what's the data type of this result? You can find the data type of any data using `type` function like this"
      ]
    },
    {
      "cell_type": "code",
      "metadata": {
        "id": "FVIh8k42xv0x",
        "colab_type": "code",
        "colab": {}
      },
      "source": [
        "print(\"df_zangoose is of type:\", type(df_zangoose))"
      ],
      "execution_count": null,
      "outputs": []
    },
    {
      "cell_type": "markdown",
      "metadata": {
        "id": "E7rIS6-V0JFq",
        "colab_type": "text"
      },
      "source": [
        "As you can see, the result is also a `DataFrame`"
      ]
    },
    {
      "cell_type": "markdown",
      "metadata": {
        "id": "tYcdv-DSv9Me",
        "colab_type": "text"
      },
      "source": [
        "## 3) Arranging"
      ]
    },
    {
      "cell_type": "markdown",
      "metadata": {
        "id": "ImYzN3GRw8-f",
        "colab_type": "text"
      },
      "source": [
        "Currently we can see the order of the columns by just seeing the dataframe `df_pokemon`"
      ]
    },
    {
      "cell_type": "code",
      "metadata": {
        "id": "LC85fRmSw8Fm",
        "colab_type": "code",
        "colab": {}
      },
      "source": [
        "df_pokemon"
      ],
      "execution_count": null,
      "outputs": []
    },
    {
      "cell_type": "markdown",
      "metadata": {
        "id": "eNmz4Qoc0S_3",
        "colab_type": "text"
      },
      "source": [
        "Let's rearrange the order of columns by bringing `height`, and `weight` columns forward and pushing `species_id` column to the end"
      ]
    },
    {
      "cell_type": "code",
      "metadata": {
        "id": "4vn3o46M0mE7",
        "colab_type": "code",
        "colab": {}
      },
      "source": [
        "df_pokemon[['id', 'identifier', 'height', 'weight',\n",
        "            'base_experience', 'order', 'is_default', 'species_id']]"
      ],
      "execution_count": null,
      "outputs": []
    },
    {
      "cell_type": "markdown",
      "metadata": {
        "id": "UotjfAyb1U43",
        "colab_type": "text"
      },
      "source": [
        "Some things to play around with the above code:\n",
        "* Try the above with different order of columns\n",
        "* Try to give a wrong or non existent column name\n",
        "* Try repeating the column names"
      ]
    },
    {
      "cell_type": "markdown",
      "metadata": {
        "id": "p1EU-3uK11pB",
        "colab_type": "text"
      },
      "source": [
        "Now, let's see what happens when we use a single square bracket `[]` instead of double square brackets `[[]]`. Go ahead and run the below piece of code"
      ]
    },
    {
      "cell_type": "code",
      "metadata": {
        "id": "KHFbSmng2Gio",
        "colab_type": "code",
        "colab": {}
      },
      "source": [
        "df_pokemon['id', 'identifier', 'height', 'weight',\n",
        "            'base_experience', 'order', 'is_default', 'species_id']"
      ],
      "execution_count": null,
      "outputs": []
    },
    {
      "cell_type": "markdown",
      "metadata": {
        "id": "VxHqKo-k2Q9i",
        "colab_type": "text"
      },
      "source": [
        "As we discussed in the slides, it gives a big fat error 😅 You can fix it by using the double square brackets `[[]]`"
      ]
    },
    {
      "cell_type": "markdown",
      "metadata": {
        "id": "LSEwu-bGgZ1e",
        "colab_type": "text"
      },
      "source": [
        "### How many Pokemon are there?<br>\n",
        "We know from the above 'Preview of the Pokemon data' that, `id` gives us the unique identifier of the Pokemon. We want to ensure that we do not have duplicate rows for any Pokemon in this data and then count how many Pokemon we have.\n",
        "\n",
        "To do so, we do the following:"
      ]
    },
    {
      "cell_type": "code",
      "metadata": {
        "id": "w_hCBLF-7cBU",
        "colab_type": "code",
        "colab": {}
      },
      "source": [
        "number_of_rows = len(df_pokemon)\n",
        "# find count of unique 'id' in the dataframe.\n",
        "unique_ids = df_pokemon['id'].unique()\n",
        "unique_ids_count = len(unique_ids)\n",
        "duplicate_ids_count = number_of_rows - unique_ids_count\n",
        "print(\"There are \", duplicate_ids_count, \"duplicate 'id' in this dataframe.\")\n",
        "print(\"Number of Pokemon in this dataframe is\", unique_ids_count)"
      ],
      "execution_count": null,
      "outputs": []
    },
    {
      "cell_type": "markdown",
      "metadata": {
        "id": "Ml-4xhEM7jm0",
        "colab_type": "text"
      },
      "source": [
        "### Find the Pokemon at index 335."
      ]
    },
    {
      "cell_type": "markdown",
      "metadata": {
        "id": "2HCkfqTfWI0k",
        "colab_type": "text"
      },
      "source": [
        "Note that index has a special meaning in a dataframe. If you look at the preview above, you will see there is an extra column with no name to the left of id. This wasn’t in the raw data. This is the automatically created index column, that starts from 0 and counts by 1 each row. Some other dataframe operations will directly or indirectly change the index, as we will see below."
      ]
    },
    {
      "cell_type": "code",
      "metadata": {
        "id": "V21ru0eehmhQ",
        "colab_type": "code",
        "colab": {}
      },
      "source": [
        "print(\"This returns a type:\", type(df_pokemon.loc[335]))\n",
        "df_pokemon.loc[335]"
      ],
      "execution_count": null,
      "outputs": []
    },
    {
      "cell_type": "markdown",
      "metadata": {
        "id": "rknFdR5C07bD",
        "colab_type": "text"
      },
      "source": [
        "Notice that the output **type**s of the two find queries are different. \n",
        "\n",
        "This is because of the way in which we filter `df_pokemon`.\n"
      ]
    },
    {
      "cell_type": "markdown",
      "metadata": {
        "id": "0wGkdMI_ZB4v",
        "colab_type": "text"
      },
      "source": [
        "If you're done with this section and have time - head on to the [bonus section](#scrollTo=2zlUWLg0-6YG) "
      ]
    },
    {
      "cell_type": "markdown",
      "metadata": {
        "id": "PPuM0fOZdBKo",
        "colab_type": "text"
      },
      "source": [
        "#  Breakout Session 2 - Selecting Data with Pandas"
      ]
    },
    {
      "cell_type": "markdown",
      "metadata": {
        "id": "Drbjhv2dDUhl",
        "colab_type": "text"
      },
      "source": [
        "## 3) Selecting Specific Columns"
      ]
    },
    {
      "cell_type": "markdown",
      "metadata": {
        "id": "mJWmxiKHXwrg",
        "colab_type": "text"
      },
      "source": [
        "How do we extract data from only the `identifier` column?"
      ]
    },
    {
      "cell_type": "code",
      "metadata": {
        "id": "f7zVvUHHBcCT",
        "colab_type": "code",
        "colab": {}
      },
      "source": [
        "print(type(df_pokemon[\"identifier\"]))\n",
        "df_pokemon[\"identifier\"]"
      ],
      "execution_count": null,
      "outputs": []
    },
    {
      "cell_type": "markdown",
      "metadata": {
        "id": "Qlc5qgNlEC1V",
        "colab_type": "text"
      },
      "source": [
        "Notice how we get a `Series` type of data and how it looks in the output."
      ]
    },
    {
      "cell_type": "code",
      "metadata": {
        "id": "2cTprmXqPEL6",
        "colab_type": "code",
        "colab": {}
      },
      "source": [
        "print(type(df_pokemon[[\"identifier\"]]))\n",
        "df_pokemon[[\"identifier\"]]"
      ],
      "execution_count": null,
      "outputs": []
    },
    {
      "cell_type": "markdown",
      "metadata": {
        "id": "3tn2TrCiELm6",
        "colab_type": "text"
      },
      "source": [
        "Notice how we get a `DataFrame` type of data and how it's output looks different from the `Series` output. With `DataFrame` output, you see a nice formatted table output, which you can hover over, unlike `Series` output"
      ]
    },
    {
      "cell_type": "markdown",
      "metadata": {
        "id": "0Jx5TTBDC01M",
        "colab_type": "text"
      },
      "source": [
        "How do we extract data from both the `identifier` and `base_experience` columns?"
      ]
    },
    {
      "cell_type": "code",
      "metadata": {
        "id": "q6zkUvSkCrHM",
        "colab_type": "code",
        "colab": {}
      },
      "source": [
        "df_pokemon[[\"identifier\", \"base_experience\"]]"
      ],
      "execution_count": null,
      "outputs": []
    },
    {
      "cell_type": "markdown",
      "metadata": {
        "id": "qlaODyBT3VGH",
        "colab_type": "text"
      },
      "source": [
        "Notice that using \n",
        "\n",
        "```\n",
        "df_pokemon[[\"identifier\", \"base_experience\"]]\n",
        "```\n",
        "allows you to get data for multiple columns, which are organised as a DataFrame, so, intuitively even when you put a single column name like \n",
        "\n",
        "```\n",
        "df_pokemon[[\"identifier\"]]\n",
        "```\n",
        "Pandas creates it as a DataFrame, instead of Series.\n",
        "\n",
        "\n"
      ]
    },
    {
      "cell_type": "markdown",
      "metadata": {
        "id": "-GxEevfpMKSA",
        "colab_type": "text"
      },
      "source": [
        "## 4) Sorting by column values\n",
        "Show which pokemons have the top 10 highest base experience?"
      ]
    },
    {
      "cell_type": "code",
      "metadata": {
        "id": "bL3BOZDvMSNJ",
        "colab_type": "code",
        "colab": {}
      },
      "source": [
        "df_pokemon.sort_values(by =['base_experience'], ascending=False).head(10)"
      ],
      "execution_count": null,
      "outputs": []
    },
    {
      "cell_type": "markdown",
      "metadata": {
        "id": "yCJkvLMXHxlb",
        "colab_type": "text"
      },
      "source": [
        "## 5) Creating additional columns: Extracting data from \n",
        "\n",
        "*   List item\n",
        "*   List item\n",
        "\n",
        "other columns\n",
        "Create a column called *BMI* (Body Mass Index) and calcaulte the *BMI* of each pokemon. \n",
        "\n",
        "`BMI = weight/height^2`\n",
        "\n",
        "Save the result as df_pokemon_with_bmi."
      ]
    },
    {
      "cell_type": "code",
      "metadata": {
        "id": "KVOsSNGUIdSO",
        "colab_type": "code",
        "colab": {}
      },
      "source": [
        "df_pokemon_with_bmi = df_pokemon.copy()\n",
        "df_pokemon_with_bmi['bmi'] = df_pokemon_with_bmi['weight']/df_pokemon_with_bmi['height']**2\n",
        "df_pokemon_with_bmi"
      ],
      "execution_count": null,
      "outputs": []
    },
    {
      "cell_type": "markdown",
      "metadata": {
        "id": "CksKBhBnUnc4",
        "colab_type": "text"
      },
      "source": [
        "## Exercise 1"
      ]
    },
    {
      "cell_type": "markdown",
      "metadata": {
        "id": "jy-4hAKFDMqO",
        "colab_type": "text"
      },
      "source": [
        "Find the pokemon with species ID 505. "
      ]
    },
    {
      "cell_type": "code",
      "metadata": {
        "id": "KXgiBk6lDOST",
        "colab_type": "code",
        "colab": {}
      },
      "source": [
        ""
      ],
      "execution_count": null,
      "outputs": []
    },
    {
      "cell_type": "markdown",
      "metadata": {
        "id": "sdylLhMBn6Ib",
        "colab_type": "text"
      },
      "source": [
        "## 6) Calculating poke statistics"
      ]
    },
    {
      "cell_type": "markdown",
      "metadata": {
        "id": "n92Ef2KNgTlJ",
        "colab_type": "text"
      },
      "source": [
        "### What is the data type of the `weight` column?"
      ]
    },
    {
      "cell_type": "code",
      "metadata": {
        "id": "NIievQY-8cZD",
        "colab_type": "code",
        "colab": {}
      },
      "source": [
        "df_pokemon['weight'].dtype"
      ],
      "execution_count": null,
      "outputs": []
    },
    {
      "cell_type": "markdown",
      "metadata": {
        "id": "60hJkphx8kGW",
        "colab_type": "text"
      },
      "source": [
        "### On average, how much do Pokemon weigh?\n"
      ]
    },
    {
      "cell_type": "code",
      "metadata": {
        "id": "oKr7OuZrUab5",
        "colab_type": "code",
        "colab": {}
      },
      "source": [
        "df_pokemon['weight'].mean()"
      ],
      "execution_count": null,
      "outputs": []
    },
    {
      "cell_type": "markdown",
      "metadata": {
        "id": "XX9WuuW2otkA",
        "colab_type": "text"
      },
      "source": [
        "### We can also use `describe()`\n",
        "The `describe()` attribute gives descriptive statictics of a column including the `mean` - mean of the values, `std` - standard deviation of the observations, and `min` - minimum of the values\n",
        " "
      ]
    },
    {
      "cell_type": "code",
      "metadata": {
        "id": "aqtl9m30UPxJ",
        "colab_type": "code",
        "colab": {}
      },
      "source": [
        "df_pokemon['weight'].describe()"
      ],
      "execution_count": null,
      "outputs": []
    },
    {
      "cell_type": "markdown",
      "metadata": {
        "id": "Hsbf9gJX6XKt",
        "colab_type": "text"
      },
      "source": [
        "Use of `describe()` automatically calculates some predefined metrics on the numeric columns."
      ]
    },
    {
      "cell_type": "markdown",
      "metadata": {
        "id": "T945h7wEe8-W",
        "colab_type": "text"
      },
      "source": [
        "## Exercise 2\n"
      ]
    },
    {
      "cell_type": "markdown",
      "metadata": {
        "id": "hK6Wa7u2DbYB",
        "colab_type": "text"
      },
      "source": [
        "Try out what happens when you run `describe()` on a column with non-numeric values, like `identifier`"
      ]
    },
    {
      "cell_type": "code",
      "metadata": {
        "id": "nP5si1UXd1_g",
        "colab_type": "code",
        "colab": {}
      },
      "source": [
        ""
      ],
      "execution_count": null,
      "outputs": []
    },
    {
      "cell_type": "markdown",
      "metadata": {
        "id": "Qf52pewgjsH4",
        "colab_type": "text"
      },
      "source": [
        "If you're done with this section give the [bonus section](#scrollTo=Natqojl1kZcX) a shot!"
      ]
    },
    {
      "cell_type": "markdown",
      "metadata": {
        "id": "DhFIw5MfdeBy",
        "colab_type": "text"
      },
      "source": [
        "#Breakout Session 3 - Processing data"
      ]
    },
    {
      "cell_type": "markdown",
      "metadata": {
        "id": "Xklk5bZmuc8R",
        "colab_type": "text"
      },
      "source": [
        "## 7) Grouping  and Aggregation\n",
        "\n"
      ]
    },
    {
      "cell_type": "code",
      "metadata": {
        "id": "4LAI2o2qYBFB",
        "colab_type": "code",
        "colab": {}
      },
      "source": [
        ""
      ],
      "execution_count": null,
      "outputs": []
    },
    {
      "cell_type": "markdown",
      "metadata": {
        "id": "XKLkhFVPw1-K",
        "colab_type": "text"
      },
      "source": [
        "### Group Pokemon by their species id"
      ]
    },
    {
      "cell_type": "code",
      "metadata": {
        "id": "6zzyCkq9uc8R",
        "colab_type": "code",
        "colab": {}
      },
      "source": [
        "df_pokemon.groupby([\"species_id\"])[\"identifier\"].count()"
      ],
      "execution_count": null,
      "outputs": []
    },
    {
      "cell_type": "markdown",
      "metadata": {
        "id": "rH3ceYYZuc8W",
        "colab_type": "text"
      },
      "source": [
        "### Counting in Groups"
      ]
    },
    {
      "cell_type": "markdown",
      "metadata": {
        "id": "TMHJeMf40Jq0",
        "colab_type": "text"
      },
      "source": [
        "We need to apply an aggregation operation e.g. `count` to the Grouping in order for it be useful.\n",
        "\n",
        "In this case, the resultant data is a `Series` and it is wrapped in a `DataFrame` and therefore it displays a formatted table."
      ]
    },
    {
      "cell_type": "code",
      "metadata": {
        "id": "80JHf60Juc8W",
        "colab_type": "code",
        "colab": {}
      },
      "source": [
        "df_pokemon_grouped_height_weight = pd.DataFrame(\n",
        "    df_pokemon.groupby([\"height\", \"weight\"])[\"identifier\"].count()\n",
        ")\n",
        "\n",
        "# lets look at the first ten 10 rows\n",
        "df_pokemon_grouped_height_weight.head(10)"
      ],
      "execution_count": null,
      "outputs": []
    },
    {
      "cell_type": "markdown",
      "metadata": {
        "id": "sG2OpqUTuc8Z",
        "colab_type": "text"
      },
      "source": [
        "This DataFrame is a little different to the ones we've seen thus far.\n",
        "\n",
        "The `identifier` column no longer contains the value of the identifier but contains the 'count'.\n",
        "\n",
        "Also it has two indices, the columns we grouped by:"
      ]
    },
    {
      "cell_type": "code",
      "metadata": {
        "id": "dEJlZUMjuc8a",
        "colab_type": "code",
        "colab": {}
      },
      "source": [
        "df_pokemon_grouped_height_weight.index.names"
      ],
      "execution_count": null,
      "outputs": []
    },
    {
      "cell_type": "code",
      "metadata": {
        "id": "nL5hu1g0-kZH",
        "colab_type": "code",
        "colab": {}
      },
      "source": [
        "df_pokemon_grouped_species = pd.DataFrame(\n",
        "    df_pokemon.groupby([\"species_id\"])[\"weight\"].mean()\n",
        ")\n",
        "\n",
        "# lets look at the first ten 10 rows\n",
        "df_pokemon_grouped_species.head(10)"
      ],
      "execution_count": null,
      "outputs": []
    },
    {
      "cell_type": "code",
      "metadata": {
        "id": "J0XswICF_Isy",
        "colab_type": "code",
        "colab": {}
      },
      "source": [
        "df_pokemon_grouped_species = pd.DataFrame(\n",
        "    df_pokemon.groupby([\"species_id\"])[\"height\"].mean()\n",
        ")\n",
        "\n",
        "# lets look at the first ten 10 rows\n",
        "df_pokemon_grouped_species.head(10)"
      ],
      "execution_count": null,
      "outputs": []
    },
    {
      "cell_type": "markdown",
      "metadata": {
        "id": "8-26Ytsbuc8d",
        "colab_type": "text"
      },
      "source": [
        "## 8) Selecting Records with a MultiIndex"
      ]
    },
    {
      "cell_type": "code",
      "metadata": {
        "id": "kOdr7dADuc8e",
        "colab_type": "code",
        "colab": {}
      },
      "source": [
        "df_pokemon_grouped_height_weight.loc[(1,9999)]"
      ],
      "execution_count": null,
      "outputs": []
    },
    {
      "cell_type": "markdown",
      "metadata": {
        "id": "dB14TfcTuc8g",
        "colab_type": "text"
      },
      "source": [
        "Surely this must be an exceptional Pokemon in terms of weight?"
      ]
    },
    {
      "cell_type": "code",
      "metadata": {
        "id": "9oAs6Pknuc8g",
        "colab_type": "code",
        "colab": {}
      },
      "source": [
        "df_pokemon[\"weight\"].describe()"
      ],
      "execution_count": null,
      "outputs": []
    },
    {
      "cell_type": "markdown",
      "metadata": {
        "id": "Q-N18Udluc8i",
        "colab_type": "text"
      },
      "source": [
        "Seems like it is the heaviest (or one of the heaviest) Pokemon, so which Pokemon is it?"
      ]
    },
    {
      "cell_type": "markdown",
      "metadata": {
        "id": "QTMhcarwuc8j",
        "colab_type": "text"
      },
      "source": [
        "## 9) Select a Record by Query\n",
        "\n",
        "That 1 pokemon with a height of 1 and a weight of 9999 is making us curious, which Pokemon is it?\n",
        "\n",
        "We could look it up using multiple indices or we could write a query."
      ]
    },
    {
      "cell_type": "code",
      "metadata": {
        "id": "0yu3IX3cuc8j",
        "colab_type": "code",
        "colab": {}
      },
      "source": [
        "df_pokemon.query(\"height == 1 and weight == 9999\")"
      ],
      "execution_count": null,
      "outputs": []
    },
    {
      "cell_type": "markdown",
      "metadata": {
        "id": "o8PGwieRuc8m",
        "colab_type": "text"
      },
      "source": [
        "So which Pokemon happens to be...\n",
        "<img src=\"http://i0.kym-cdn.com/entries/icons/original/000/000/056/itsover1000.jpg\"/>\n",
        "\n",
        "image credit: http://knowyourmeme.com/memes/its-over-9000"
      ]
    },
    {
      "cell_type": "code",
      "metadata": {
        "id": "9q18yL_1uc8m",
        "colab_type": "code",
        "colab": {}
      },
      "source": [
        "df_pokemon.query(\"weight >= 9000\")"
      ],
      "execution_count": null,
      "outputs": []
    },
    {
      "cell_type": "markdown",
      "metadata": {
        "id": "RjOjP5NRuc8p",
        "colab_type": "text"
      },
      "source": [
        "## 10) Renaming columns\n",
        "\n",
        "The counted identifiers don't have a descriptive column name, so lets rename it."
      ]
    },
    {
      "cell_type": "markdown",
      "metadata": {
        "id": "Ax9ciGEFuc8q",
        "colab_type": "text"
      },
      "source": [
        "### What columns do we have in our grouped DataFrame?"
      ]
    },
    {
      "cell_type": "code",
      "metadata": {
        "id": "NRdqkCz5uc8r",
        "colab_type": "code",
        "colab": {}
      },
      "source": [
        "df_pokemon_grouped_height_weight.columns"
      ],
      "execution_count": null,
      "outputs": []
    },
    {
      "cell_type": "markdown",
      "metadata": {
        "id": "BVc16hDvuc8u",
        "colab_type": "text"
      },
      "source": [
        "Let's rename that column by passing a list with the new column name.\n",
        "If we had multiple columns we'd need to pass all of the column names in."
      ]
    },
    {
      "cell_type": "code",
      "metadata": {
        "id": "teIYI3hGuc8u",
        "colab_type": "code",
        "colab": {}
      },
      "source": [
        "df_pokemon_grouped_height_weight.columns = [\"pokemon_count\"]\n",
        "df_pokemon_grouped_height_weight.head(10)"
      ],
      "execution_count": null,
      "outputs": []
    },
    {
      "cell_type": "markdown",
      "metadata": {
        "id": "r8G4sNTI9gBv",
        "colab_type": "text"
      },
      "source": [
        "## Exercise - 3 "
      ]
    },
    {
      "cell_type": "markdown",
      "metadata": {
        "id": "s2HOvieLD5KF",
        "colab_type": "text"
      },
      "source": [
        "Count the number of Pokemon in each species."
      ]
    },
    {
      "cell_type": "code",
      "metadata": {
        "id": "EeD22dxWqAJt",
        "colab_type": "code",
        "colab": {}
      },
      "source": [
        ""
      ],
      "execution_count": null,
      "outputs": []
    },
    {
      "cell_type": "markdown",
      "metadata": {
        "id": "xYkNoudZ9-R0",
        "colab_type": "text"
      },
      "source": [
        "## Exercise - 4 "
      ]
    },
    {
      "cell_type": "markdown",
      "metadata": {
        "id": "kFp4iRC7D-Sa",
        "colab_type": "text"
      },
      "source": [
        "Find the 5 tallest pokemon"
      ]
    },
    {
      "cell_type": "code",
      "metadata": {
        "id": "HmG38-zCqBLq",
        "colab_type": "code",
        "colab": {}
      },
      "source": [
        "\n"
      ],
      "execution_count": null,
      "outputs": []
    },
    {
      "cell_type": "markdown",
      "metadata": {
        "id": "AfSTgRxScphY",
        "colab_type": "text"
      },
      "source": [
        "#Breakout Session 4 - Visualisation\n",
        "\n",
        "As the volume of the data increases, it becomes difficult for us to simply look at the column and row values to find patterns and make inferences.\n",
        "\n",
        "We use Plots to help us present this information in a visual format and make it more readable."
      ]
    },
    {
      "cell_type": "markdown",
      "metadata": {
        "id": "6KvaCmlYuc8y",
        "colab_type": "text"
      },
      "source": [
        "## 11) Basic Plotting"
      ]
    },
    {
      "cell_type": "markdown",
      "metadata": {
        "id": "htMaDUy9_8vu",
        "colab_type": "text"
      },
      "source": [
        "Let's find the `height` of pokemons whose `weight` is more than `8000` for our analysis and plot it in a graph"
      ]
    },
    {
      "cell_type": "code",
      "metadata": {
        "scrolled": false,
        "id": "4lrgXSC8uc8z",
        "colab_type": "code",
        "colab": {}
      },
      "source": [
        "heavyPokemon = df_pokemon[df_pokemon['weight'] > 8000]\n",
        "plot = heavyPokemon.plot.scatter(x=\"identifier\", y = \"height\", grid=True, figsize=(10, 10))\n",
        "plot = plot.set_xticklabels(heavyPokemon.identifier, rotation=80)"
      ],
      "execution_count": null,
      "outputs": []
    },
    {
      "cell_type": "markdown",
      "metadata": {
        "id": "MrQIzG_43hxV",
        "colab_type": "text"
      },
      "source": [
        "Notice the one Pokemon with very low height and still in the `weight > 8000` group. Do you remember it from your previous analysis?"
      ]
    },
    {
      "cell_type": "code",
      "metadata": {
        "id": "18I-fNKdAzN_",
        "colab_type": "code",
        "colab": {}
      },
      "source": [
        "tallPokemon = df_pokemon[df_pokemon['height'] > 60]\n",
        "plot = tallPokemon[\"weight\"].plot(kind=\"bar\", x = \"identifier\", figsize=(10, 10))\n",
        "plot = plot.set_xticklabels(tallPokemon.identifier, rotation=80)\n"
      ],
      "execution_count": null,
      "outputs": []
    },
    {
      "cell_type": "markdown",
      "metadata": {
        "id": "7LzNCiLf5Wpf",
        "colab_type": "text"
      },
      "source": [
        "Head on to the [bonus section](#scrollTo=g4X50HcL03eX) for more such plots"
      ]
    },
    {
      "cell_type": "markdown",
      "metadata": {
        "id": "qoVoNjC9CU8h",
        "colab_type": "text"
      },
      "source": [
        "# Mini Project 1\n",
        "Plot the mean weight of each species.\n",
        "\n",
        "Plot the mean weights using a histogram. You can find the docs [here](https://pandas.pydata.org/pandas-docs/stable/reference/api/pandas.DataFrame.hist.html) for the same"
      ]
    },
    {
      "cell_type": "code",
      "metadata": {
        "id": "6G6JykB4qnL-",
        "colab_type": "code",
        "colab": {}
      },
      "source": [
        "\n"
      ],
      "execution_count": null,
      "outputs": []
    },
    {
      "cell_type": "markdown",
      "metadata": {
        "id": "x5285Fl65GYv",
        "colab_type": "text"
      },
      "source": [
        "# BONUS SECTIONS"
      ]
    },
    {
      "cell_type": "markdown",
      "metadata": {
        "id": "2zlUWLg0-6YG",
        "colab_type": "text"
      },
      "source": [
        "## Bonus/Optional Reading 1\n",
        "\n",
        "### Indices and Uniqueness"
      ]
    },
    {
      "cell_type": "markdown",
      "metadata": {
        "id": "Dra8_v6Cgu9S",
        "colab_type": "text"
      },
      "source": [
        "The code in this bonus section modifies the data in the data frame. Let's create a copy of the data before we do anything, to avoid affecting / changing the data frame we use in the break out sessions"
      ]
    },
    {
      "cell_type": "code",
      "metadata": {
        "id": "GkHGjT7hhLKm",
        "colab_type": "code",
        "colab": {}
      },
      "source": [
        "df_pokemon_copy = df_pokemon.copy()"
      ],
      "execution_count": null,
      "outputs": []
    },
    {
      "cell_type": "markdown",
      "metadata": {
        "id": "_ZFbV7uQ5x5Q",
        "colab_type": "text"
      },
      "source": [
        "The first column of the dataset is an automatically generated unique identifier for each row. It  is called the `index`"
      ]
    },
    {
      "cell_type": "code",
      "metadata": {
        "id": "Q6qe1gdc7f97",
        "colab_type": "code",
        "colab": {}
      },
      "source": [
        "df_pokemon_copy.index"
      ],
      "execution_count": null,
      "outputs": []
    },
    {
      "cell_type": "markdown",
      "metadata": {
        "id": "9y4y7SZgACXT",
        "colab_type": "text"
      },
      "source": [
        "Our dataset includes an `id` column. If it is unique, we can use it as the unique index, rather than the automatically generated index.\n",
        "\n",
        "To check if the `id` column is unique we can use the `is_unique` attribute. "
      ]
    },
    {
      "cell_type": "code",
      "metadata": {
        "id": "G4Wled94_x6k",
        "colab_type": "code",
        "colab": {}
      },
      "source": [
        "df_pokemon_copy[\"id\"].is_unique"
      ],
      "execution_count": null,
      "outputs": []
    },
    {
      "cell_type": "markdown",
      "metadata": {
        "id": "rToOGqVIAonc",
        "colab_type": "text"
      },
      "source": [
        "We also have an `identifier` column for the name of the Pokemon. \n",
        "\n",
        "Are the names (identifiers) unique?"
      ]
    },
    {
      "cell_type": "code",
      "metadata": {
        "id": "y1dmsrx-Aik_",
        "colab_type": "code",
        "colab": {}
      },
      "source": [
        "df_pokemon_copy[\"identifier\"].is_unique"
      ],
      "execution_count": null,
      "outputs": []
    },
    {
      "cell_type": "markdown",
      "metadata": {
        "id": "1RejAFzuBIHZ",
        "colab_type": "text"
      },
      "source": [
        "Because there are two unique indices (`id` and `identifier`), we can use either of these columns as the unique index for our dataset."
      ]
    },
    {
      "cell_type": "code",
      "metadata": {
        "id": "5t7FHQyeB5GH",
        "colab_type": "code",
        "colab": {}
      },
      "source": [
        "df_pokemon_copy = df_pokemon_copy.set_index(\"id\")\n",
        "df_pokemon_copy.head()"
      ],
      "execution_count": null,
      "outputs": []
    },
    {
      "cell_type": "markdown",
      "metadata": {
        "id": "-8xzBEcOiqG0",
        "colab_type": "text"
      },
      "source": [
        "Head back to [continue on the main content](#scrollTo=PPuM0fOZdBKo)"
      ]
    },
    {
      "cell_type": "markdown",
      "metadata": {
        "id": "Natqojl1kZcX",
        "colab_type": "text"
      },
      "source": [
        "## Bonus/Optional Reading 2\n",
        "### Partial Text Matching\n"
      ]
    },
    {
      "cell_type": "markdown",
      "metadata": {
        "id": "TxpaTuo7kgjF",
        "colab_type": "text"
      },
      "source": [
        " Get the values in a column as string and then apply string contains operation to determine if a specific value in the series matches \"totem\".\n",
        "\n",
        "Also lets make a seperate DataFrame that has only Pokemons with 'totem' in their name."
      ]
    },
    {
      "cell_type": "code",
      "metadata": {
        "id": "1Xq9-5oYkexh",
        "colab_type": "code",
        "colab": {}
      },
      "source": [
        "# find all the totem\n",
        "totem_index = df_pokemon[\"identifier\"].astype(str).str.contains(\"totem\")\n",
        "df_totem = df_pokemon[totem_index]\n",
        "df_totem"
      ],
      "execution_count": null,
      "outputs": []
    },
    {
      "cell_type": "markdown",
      "metadata": {
        "id": "-5B6Y4Wro1-y",
        "colab_type": "text"
      },
      "source": [
        "#### Exercise - calculate the mean base experience of totem Pokemon"
      ]
    },
    {
      "cell_type": "code",
      "metadata": {
        "id": "FL7U8vH7-6l4",
        "colab_type": "code",
        "colab": {}
      },
      "source": [
        "# mean base experience of Totem"
      ],
      "execution_count": null,
      "outputs": []
    },
    {
      "cell_type": "markdown",
      "metadata": {
        "id": "-BJvoXFNm5_c",
        "colab_type": "text"
      },
      "source": [
        "#### Exercise - find all `totem` pokemon"
      ]
    },
    {
      "cell_type": "code",
      "metadata": {
        "id": "kqtUa0l692N2",
        "colab_type": "code",
        "colab": {}
      },
      "source": [
        "# find index of totem\n",
        "# select the rows and save into a new data frame df_totem\n",
        "# show the first 10 rows of df_totem"
      ],
      "execution_count": null,
      "outputs": []
    },
    {
      "cell_type": "markdown",
      "metadata": {
        "id": "Lp6BqqNBkVHX",
        "colab_type": "text"
      },
      "source": [
        "Head back to [continue on the main content](#scrollTo=DhFIw5MfdeBy)"
      ]
    },
    {
      "cell_type": "markdown",
      "metadata": {
        "id": "g4X50HcL03eX",
        "colab_type": "text"
      },
      "source": [
        "## Bonus/Optional Reading 3\n",
        "### Visualization"
      ]
    },
    {
      "cell_type": "markdown",
      "metadata": {
        "id": "SDSNj4xl1LBP",
        "colab_type": "text"
      },
      "source": [
        "#### Box Plot"
      ]
    },
    {
      "cell_type": "markdown",
      "metadata": {
        "id": "eUC3fpMB1hqD",
        "colab_type": "text"
      },
      "source": [
        "Box plot is used to plot values of a single variable / column. It helps understand the spread of values in a column. For example, let's draw the box plot for the `height` column."
      ]
    },
    {
      "cell_type": "code",
      "metadata": {
        "id": "6mCUOv-74Ple",
        "colab_type": "code",
        "colab": {}
      },
      "source": [
        "df_pokemon.boxplot('height')"
      ],
      "execution_count": null,
      "outputs": []
    },
    {
      "cell_type": "code",
      "metadata": {
        "id": "jdtgAlAznRmb",
        "colab_type": "code",
        "colab": {}
      },
      "source": [
        "# Multibar charts\n",
        "tallPokemon = df_pokemon[df_pokemon['height'] > 60]\n",
        "tallPokemon.plot(kind=\"bar\", x = \"identifier\",y=[\"height\",\"base_experience\"], figsize=(10, 10))\n"
      ],
      "execution_count": null,
      "outputs": []
    },
    {
      "cell_type": "markdown",
      "metadata": {
        "id": "GgIhonip2Ugq",
        "colab_type": "text"
      },
      "source": [
        "Among other things, the box plot pictorially shows you the `median` value and outliers."
      ]
    },
    {
      "cell_type": "markdown",
      "metadata": {
        "id": "dspsTNji6KZT",
        "colab_type": "text"
      },
      "source": [
        "When you're done, head back to the [main content](#scrollTo=qoVoNjC9CU8h)."
      ]
    }
  ]
}